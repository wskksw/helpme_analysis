{
 "cells": [
  {
   "cell_type": "code",
   "execution_count": 34,
   "metadata": {},
   "outputs": [
    {
     "data": {
      "text/plain": [
       "{'Sheet1': courseId                int64\n",
       " questionAbstract       object\n",
       " questionText           object\n",
       " creatorId               int64\n",
       " createdAt              object\n",
       " taHelpedId            float64\n",
       " closedAt               object\n",
       " aiAnswerText           object\n",
       " answerText             object\n",
       " visible                  bool\n",
       " status                 object\n",
       " verified                 bool\n",
       " creator_first_name     object\n",
       " creator_last_name      object\n",
       " ta_first_name          object\n",
       " ta_last_name           object\n",
       " dtype: object}"
      ]
     },
     "execution_count": 34,
     "metadata": {},
     "output_type": "execute_result"
    }
   ],
   "source": [
    "import pandas as pd\n",
    "file_path = 'anytime.xlsx'\n",
    "xls = pd.ExcelFile(file_path)\n",
    "\n",
    "# Display the schema of the Excel file\n",
    "schema = {sheet_name: xls.parse(sheet_name).dtypes for sheet_name in xls.sheet_names}\n",
    "schema\n",
    "\n"
   ]
  },
  {
   "cell_type": "code",
   "execution_count": 31,
   "metadata": {},
   "outputs": [
    {
     "data": {
      "text/plain": [
       "{'Sheet1': 112}"
      ]
     },
     "execution_count": 31,
     "metadata": {},
     "output_type": "execute_result"
    }
   ],
   "source": [
    "row_counts = {sheet_name: xls.parse(sheet_name).shape[0] for sheet_name in xls.sheet_names}\n",
    "row_counts"
   ]
  },
  {
   "cell_type": "code",
   "execution_count": 32,
   "metadata": {},
   "outputs": [
    {
     "name": "stdout",
     "output_type": "stream",
     "text": [
      "{'Sheet1': status\n",
      "HumanAnswered               0.866071\n",
      "AIAnsweredResolved          0.071429\n",
      "TADeleted                   0.026786\n",
      "AIAnswered                  0.017857\n",
      "StudentDeleted              0.008929\n",
      "AIAnsweredNeedsAttention    0.008929\n",
      "Name: proportion, dtype: float64}\n"
     ]
    },
    {
     "data": {
      "text/plain": [
       "{'Sheet1': np.float64(13.392857142857139)}"
      ]
     },
     "execution_count": 32,
     "metadata": {},
     "output_type": "execute_result"
    }
   ],
   "source": [
    "# status that's not HumanAnswered\n",
    "status_counts = {sheet_name: xls.parse(sheet_name)['status'].value_counts(normalize=True) for sheet_name in xls.sheet_names}\n",
    "print(status_counts)\n",
    "non_human_answered_percentage = {sheet_name: (1 - status_counts[sheet_name].get('HumanAnswered', 0)) * 100 for sheet_name in status_counts}\n",
    "non_human_answered_percentage\n"
   ]
  },
  {
   "cell_type": "code",
   "execution_count": 28,
   "metadata": {},
   "outputs": [
    {
     "name": "stdout",
     "output_type": "stream",
     "text": [
      "ta_first_name\n",
      "Ramon     64\n",
      "Bradan    27\n",
      "Kevin      7\n",
      "Name: count, dtype: int64\n"
     ]
    }
   ],
   "source": [
    "import pandas as pd\n",
    "\n",
    "# Load the Excel file\n",
    "df = pd.read_excel('anytime.xlsx')\n",
    "\n",
    "# List of TAs to remove, who are from other courses\n",
    "tas_to_remove = ['Afra Antara', 'Christina', 'Meghdad', 'Tanmaya','Yves']\n",
    "\n",
    "# Filter out these TAs\n",
    "df_filtered = df[~df['ta_first_name'].isin(tas_to_remove)]\n",
    "\n",
    "#save back to anytime.xlsx\n",
    "df_filtered.to_excel('anytime.xlsx', index=False)\n",
    "# Count the rows for each remaining TA\n",
    "ta_row_counts = df_filtered['ta_first_name'].value_counts()\n",
    "\n",
    "# Display the counts\n",
    "print(ta_row_counts)"
   ]
  },
  {
   "cell_type": "markdown",
   "metadata": {},
   "source": []
  },
  {
   "cell_type": "code",
   "execution_count": 33,
   "metadata": {},
   "outputs": [
    {
     "name": "stdout",
     "output_type": "stream",
     "text": [
      "\n",
      "Visibility Counts:\n",
      "visible\n",
      "False    67\n",
      "True     45\n",
      "Name: count, dtype: int64\n"
     ]
    }
   ],
   "source": [
    "import pandas as pd\n",
    "\n",
    "# Load the Excel file\n",
    "df = pd.read_excel('anytime.xlsx')\n",
    "\n",
    "# Count rows by visibility status\n",
    "visibility_counts = df['visible'].value_counts()\n",
    "\n",
    "print(\"\\nVisibility Counts:\")\n",
    "print(visibility_counts)\n"
   ]
  },
  {
   "cell_type": "code",
   "execution_count": 3,
   "metadata": {},
   "outputs": [
    {
     "name": "stdout",
     "output_type": "stream",
     "text": [
      "\n",
      "Total number of unique students: 33\n"
     ]
    }
   ],
   "source": [
    "import pandas as pd\n",
    "\n",
    "# Load the Excel file\n",
    "df = pd.read_excel('anytime.xlsx')\n",
    "\n",
    "# Get unique students by combining first and last names\n",
    "unique_students = df[['creator_first_name', 'creator_last_name']].drop_duplicates()\n",
    "\n",
    "# Count total unique students\n",
    "total_unique_students = len(unique_students)\n",
    "\n",
    "print(f\"\\nTotal number of unique students: {total_unique_students}\")\n"
   ]
  }
 ],
 "metadata": {
  "kernelspec": {
   "display_name": "venv",
   "language": "python",
   "name": "python3"
  },
  "language_info": {
   "codemirror_mode": {
    "name": "ipython",
    "version": 3
   },
   "file_extension": ".py",
   "mimetype": "text/x-python",
   "name": "python",
   "nbconvert_exporter": "python",
   "pygments_lexer": "ipython3",
   "version": "3.12.4"
  }
 },
 "nbformat": 4,
 "nbformat_minor": 2
}
